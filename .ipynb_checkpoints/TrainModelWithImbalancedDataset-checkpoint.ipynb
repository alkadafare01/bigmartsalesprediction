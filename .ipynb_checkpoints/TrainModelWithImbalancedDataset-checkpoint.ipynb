{
 "cells": [
  {
   "cell_type": "code",
   "execution_count": 1,
   "id": "comparative-bargain",
   "metadata": {},
   "outputs": [],
   "source": [
    "#import library"
   ]
  },
  {
   "cell_type": "code",
   "execution_count": 1,
   "id": "informal-integral",
   "metadata": {},
   "outputs": [],
   "source": [
    "import numpy as np\n",
    "import pandas as pd\n",
    "import seaborn as sns"
   ]
  },
  {
   "cell_type": "code",
   "execution_count": 2,
   "id": "psychological-bridge",
   "metadata": {},
   "outputs": [],
   "source": [
    "#Load data"
   ]
  },
  {
   "cell_type": "code",
   "execution_count": 3,
   "id": "juvenile-relative",
   "metadata": {},
   "outputs": [],
   "source": [
    "TrainData=pd.read_csv(\"Data/train_Df64byy.csv\")\n",
    "\n"
   ]
  },
  {
   "cell_type": "code",
   "execution_count": 4,
   "id": "short-future",
   "metadata": {},
   "outputs": [],
   "source": [
    "#Convert Categorical variable into numerical value for further analysis\n",
    "#First convert in Train Data"
   ]
  },
  {
   "cell_type": "code",
   "execution_count": 5,
   "id": "baking-yukon",
   "metadata": {},
   "outputs": [],
   "source": [
    "TrainData = pd.get_dummies(TrainData, \n",
    "                     columns = ['Accomodation_Type', 'Reco_Insurance_Type','Is_Spouse'],drop_first=True)"
   ]
  },
  {
   "cell_type": "code",
   "execution_count": 6,
   "id": "virgin-australia",
   "metadata": {},
   "outputs": [],
   "source": [
    "TrainData = pd.get_dummies(TrainData, \n",
    "                     columns = ['City_Code', 'Health Indicator','Holding_Policy_Duration'])"
   ]
  },
  {
   "cell_type": "code",
   "execution_count": 7,
   "id": "union-asbestos",
   "metadata": {},
   "outputs": [],
   "source": [
    "# feature Reco_Policy_Premium has outliers so we convert it"
   ]
  },
  {
   "cell_type": "code",
   "execution_count": 8,
   "id": "educational-vatican",
   "metadata": {},
   "outputs": [],
   "source": [
    "TrainData['Reco_Policy_Premium_log'] = np.log(TrainData['Reco_Policy_Premium'])"
   ]
  },
  {
   "cell_type": "code",
   "execution_count": 9,
   "id": "wrapped-morgan",
   "metadata": {},
   "outputs": [],
   "source": [
    "#view summary statistics for train data"
   ]
  },
  {
   "cell_type": "code",
   "execution_count": 10,
   "id": "indirect-republic",
   "metadata": {},
   "outputs": [
    {
     "data": {
      "text/html": [
       "<div>\n",
       "<style scoped>\n",
       "    .dataframe tbody tr th:only-of-type {\n",
       "        vertical-align: middle;\n",
       "    }\n",
       "\n",
       "    .dataframe tbody tr th {\n",
       "        vertical-align: top;\n",
       "    }\n",
       "\n",
       "    .dataframe thead th {\n",
       "        text-align: right;\n",
       "    }\n",
       "</style>\n",
       "<table border=\"1\" class=\"dataframe\">\n",
       "  <thead>\n",
       "    <tr style=\"text-align: right;\">\n",
       "      <th></th>\n",
       "      <th>ID</th>\n",
       "      <th>Region_Code</th>\n",
       "      <th>Upper_Age</th>\n",
       "      <th>Lower_Age</th>\n",
       "      <th>Holding_Policy_Type</th>\n",
       "      <th>Reco_Policy_Cat</th>\n",
       "      <th>Reco_Policy_Premium</th>\n",
       "      <th>Response</th>\n",
       "      <th>Accomodation_Type_Rented</th>\n",
       "      <th>Reco_Insurance_Type_Joint</th>\n",
       "      <th>...</th>\n",
       "      <th>Holding_Policy_Duration_14.0</th>\n",
       "      <th>Holding_Policy_Duration_2.0</th>\n",
       "      <th>Holding_Policy_Duration_3.0</th>\n",
       "      <th>Holding_Policy_Duration_4.0</th>\n",
       "      <th>Holding_Policy_Duration_5.0</th>\n",
       "      <th>Holding_Policy_Duration_6.0</th>\n",
       "      <th>Holding_Policy_Duration_7.0</th>\n",
       "      <th>Holding_Policy_Duration_8.0</th>\n",
       "      <th>Holding_Policy_Duration_9.0</th>\n",
       "      <th>Reco_Policy_Premium_log</th>\n",
       "    </tr>\n",
       "  </thead>\n",
       "  <tbody>\n",
       "    <tr>\n",
       "      <th>count</th>\n",
       "      <td>50882.000000</td>\n",
       "      <td>50882.000000</td>\n",
       "      <td>50882.000000</td>\n",
       "      <td>50882.000000</td>\n",
       "      <td>30631.000000</td>\n",
       "      <td>50882.000000</td>\n",
       "      <td>50882.000000</td>\n",
       "      <td>50882.000000</td>\n",
       "      <td>50882.000000</td>\n",
       "      <td>50882.000000</td>\n",
       "      <td>...</td>\n",
       "      <td>50882.000000</td>\n",
       "      <td>50882.000000</td>\n",
       "      <td>50882.000000</td>\n",
       "      <td>50882.000000</td>\n",
       "      <td>50882.000000</td>\n",
       "      <td>50882.000000</td>\n",
       "      <td>50882.000000</td>\n",
       "      <td>50882.000000</td>\n",
       "      <td>50882.000000</td>\n",
       "      <td>50882.000000</td>\n",
       "    </tr>\n",
       "    <tr>\n",
       "      <th>mean</th>\n",
       "      <td>25441.500000</td>\n",
       "      <td>1732.788707</td>\n",
       "      <td>44.856275</td>\n",
       "      <td>42.738866</td>\n",
       "      <td>2.439228</td>\n",
       "      <td>15.115188</td>\n",
       "      <td>14183.950069</td>\n",
       "      <td>0.239947</td>\n",
       "      <td>0.450670</td>\n",
       "      <td>0.203333</td>\n",
       "      <td>...</td>\n",
       "      <td>0.009158</td>\n",
       "      <td>0.083723</td>\n",
       "      <td>0.070477</td>\n",
       "      <td>0.054459</td>\n",
       "      <td>0.046421</td>\n",
       "      <td>0.037223</td>\n",
       "      <td>0.032330</td>\n",
       "      <td>0.025864</td>\n",
       "      <td>0.021894</td>\n",
       "      <td>9.447436</td>\n",
       "    </tr>\n",
       "    <tr>\n",
       "      <th>std</th>\n",
       "      <td>14688.512535</td>\n",
       "      <td>1424.081652</td>\n",
       "      <td>17.310271</td>\n",
       "      <td>17.319375</td>\n",
       "      <td>1.025923</td>\n",
       "      <td>6.340663</td>\n",
       "      <td>6590.074873</td>\n",
       "      <td>0.427055</td>\n",
       "      <td>0.497566</td>\n",
       "      <td>0.402482</td>\n",
       "      <td>...</td>\n",
       "      <td>0.095261</td>\n",
       "      <td>0.276975</td>\n",
       "      <td>0.255951</td>\n",
       "      <td>0.226924</td>\n",
       "      <td>0.210397</td>\n",
       "      <td>0.189311</td>\n",
       "      <td>0.176876</td>\n",
       "      <td>0.158730</td>\n",
       "      <td>0.146338</td>\n",
       "      <td>0.489185</td>\n",
       "    </tr>\n",
       "    <tr>\n",
       "      <th>min</th>\n",
       "      <td>1.000000</td>\n",
       "      <td>1.000000</td>\n",
       "      <td>18.000000</td>\n",
       "      <td>16.000000</td>\n",
       "      <td>1.000000</td>\n",
       "      <td>1.000000</td>\n",
       "      <td>2280.000000</td>\n",
       "      <td>0.000000</td>\n",
       "      <td>0.000000</td>\n",
       "      <td>0.000000</td>\n",
       "      <td>...</td>\n",
       "      <td>0.000000</td>\n",
       "      <td>0.000000</td>\n",
       "      <td>0.000000</td>\n",
       "      <td>0.000000</td>\n",
       "      <td>0.000000</td>\n",
       "      <td>0.000000</td>\n",
       "      <td>0.000000</td>\n",
       "      <td>0.000000</td>\n",
       "      <td>0.000000</td>\n",
       "      <td>7.731931</td>\n",
       "    </tr>\n",
       "    <tr>\n",
       "      <th>25%</th>\n",
       "      <td>12721.250000</td>\n",
       "      <td>523.000000</td>\n",
       "      <td>28.000000</td>\n",
       "      <td>27.000000</td>\n",
       "      <td>1.000000</td>\n",
       "      <td>12.000000</td>\n",
       "      <td>9248.000000</td>\n",
       "      <td>0.000000</td>\n",
       "      <td>0.000000</td>\n",
       "      <td>0.000000</td>\n",
       "      <td>...</td>\n",
       "      <td>0.000000</td>\n",
       "      <td>0.000000</td>\n",
       "      <td>0.000000</td>\n",
       "      <td>0.000000</td>\n",
       "      <td>0.000000</td>\n",
       "      <td>0.000000</td>\n",
       "      <td>0.000000</td>\n",
       "      <td>0.000000</td>\n",
       "      <td>0.000000</td>\n",
       "      <td>9.132163</td>\n",
       "    </tr>\n",
       "    <tr>\n",
       "      <th>50%</th>\n",
       "      <td>25441.500000</td>\n",
       "      <td>1391.000000</td>\n",
       "      <td>44.000000</td>\n",
       "      <td>40.000000</td>\n",
       "      <td>3.000000</td>\n",
       "      <td>17.000000</td>\n",
       "      <td>13178.000000</td>\n",
       "      <td>0.000000</td>\n",
       "      <td>0.000000</td>\n",
       "      <td>0.000000</td>\n",
       "      <td>...</td>\n",
       "      <td>0.000000</td>\n",
       "      <td>0.000000</td>\n",
       "      <td>0.000000</td>\n",
       "      <td>0.000000</td>\n",
       "      <td>0.000000</td>\n",
       "      <td>0.000000</td>\n",
       "      <td>0.000000</td>\n",
       "      <td>0.000000</td>\n",
       "      <td>0.000000</td>\n",
       "      <td>9.486304</td>\n",
       "    </tr>\n",
       "    <tr>\n",
       "      <th>75%</th>\n",
       "      <td>38161.750000</td>\n",
       "      <td>2667.000000</td>\n",
       "      <td>59.000000</td>\n",
       "      <td>57.000000</td>\n",
       "      <td>3.000000</td>\n",
       "      <td>20.000000</td>\n",
       "      <td>18096.000000</td>\n",
       "      <td>0.000000</td>\n",
       "      <td>1.000000</td>\n",
       "      <td>0.000000</td>\n",
       "      <td>...</td>\n",
       "      <td>0.000000</td>\n",
       "      <td>0.000000</td>\n",
       "      <td>0.000000</td>\n",
       "      <td>0.000000</td>\n",
       "      <td>0.000000</td>\n",
       "      <td>0.000000</td>\n",
       "      <td>0.000000</td>\n",
       "      <td>0.000000</td>\n",
       "      <td>0.000000</td>\n",
       "      <td>9.803446</td>\n",
       "    </tr>\n",
       "    <tr>\n",
       "      <th>max</th>\n",
       "      <td>50882.000000</td>\n",
       "      <td>6194.000000</td>\n",
       "      <td>75.000000</td>\n",
       "      <td>75.000000</td>\n",
       "      <td>4.000000</td>\n",
       "      <td>22.000000</td>\n",
       "      <td>43350.400000</td>\n",
       "      <td>1.000000</td>\n",
       "      <td>1.000000</td>\n",
       "      <td>1.000000</td>\n",
       "      <td>...</td>\n",
       "      <td>1.000000</td>\n",
       "      <td>1.000000</td>\n",
       "      <td>1.000000</td>\n",
       "      <td>1.000000</td>\n",
       "      <td>1.000000</td>\n",
       "      <td>1.000000</td>\n",
       "      <td>1.000000</td>\n",
       "      <td>1.000000</td>\n",
       "      <td>1.000000</td>\n",
       "      <td>10.677071</td>\n",
       "    </tr>\n",
       "  </tbody>\n",
       "</table>\n",
       "<p>8 rows × 72 columns</p>\n",
       "</div>"
      ],
      "text/plain": [
       "                 ID   Region_Code     Upper_Age     Lower_Age  \\\n",
       "count  50882.000000  50882.000000  50882.000000  50882.000000   \n",
       "mean   25441.500000   1732.788707     44.856275     42.738866   \n",
       "std    14688.512535   1424.081652     17.310271     17.319375   \n",
       "min        1.000000      1.000000     18.000000     16.000000   \n",
       "25%    12721.250000    523.000000     28.000000     27.000000   \n",
       "50%    25441.500000   1391.000000     44.000000     40.000000   \n",
       "75%    38161.750000   2667.000000     59.000000     57.000000   \n",
       "max    50882.000000   6194.000000     75.000000     75.000000   \n",
       "\n",
       "       Holding_Policy_Type  Reco_Policy_Cat  Reco_Policy_Premium  \\\n",
       "count         30631.000000     50882.000000         50882.000000   \n",
       "mean              2.439228        15.115188         14183.950069   \n",
       "std               1.025923         6.340663          6590.074873   \n",
       "min               1.000000         1.000000          2280.000000   \n",
       "25%               1.000000        12.000000          9248.000000   \n",
       "50%               3.000000        17.000000         13178.000000   \n",
       "75%               3.000000        20.000000         18096.000000   \n",
       "max               4.000000        22.000000         43350.400000   \n",
       "\n",
       "           Response  Accomodation_Type_Rented  Reco_Insurance_Type_Joint  ...  \\\n",
       "count  50882.000000              50882.000000               50882.000000  ...   \n",
       "mean       0.239947                  0.450670                   0.203333  ...   \n",
       "std        0.427055                  0.497566                   0.402482  ...   \n",
       "min        0.000000                  0.000000                   0.000000  ...   \n",
       "25%        0.000000                  0.000000                   0.000000  ...   \n",
       "50%        0.000000                  0.000000                   0.000000  ...   \n",
       "75%        0.000000                  1.000000                   0.000000  ...   \n",
       "max        1.000000                  1.000000                   1.000000  ...   \n",
       "\n",
       "       Holding_Policy_Duration_14.0  Holding_Policy_Duration_2.0  \\\n",
       "count                  50882.000000                 50882.000000   \n",
       "mean                       0.009158                     0.083723   \n",
       "std                        0.095261                     0.276975   \n",
       "min                        0.000000                     0.000000   \n",
       "25%                        0.000000                     0.000000   \n",
       "50%                        0.000000                     0.000000   \n",
       "75%                        0.000000                     0.000000   \n",
       "max                        1.000000                     1.000000   \n",
       "\n",
       "       Holding_Policy_Duration_3.0  Holding_Policy_Duration_4.0  \\\n",
       "count                 50882.000000                 50882.000000   \n",
       "mean                      0.070477                     0.054459   \n",
       "std                       0.255951                     0.226924   \n",
       "min                       0.000000                     0.000000   \n",
       "25%                       0.000000                     0.000000   \n",
       "50%                       0.000000                     0.000000   \n",
       "75%                       0.000000                     0.000000   \n",
       "max                       1.000000                     1.000000   \n",
       "\n",
       "       Holding_Policy_Duration_5.0  Holding_Policy_Duration_6.0  \\\n",
       "count                 50882.000000                 50882.000000   \n",
       "mean                      0.046421                     0.037223   \n",
       "std                       0.210397                     0.189311   \n",
       "min                       0.000000                     0.000000   \n",
       "25%                       0.000000                     0.000000   \n",
       "50%                       0.000000                     0.000000   \n",
       "75%                       0.000000                     0.000000   \n",
       "max                       1.000000                     1.000000   \n",
       "\n",
       "       Holding_Policy_Duration_7.0  Holding_Policy_Duration_8.0  \\\n",
       "count                 50882.000000                 50882.000000   \n",
       "mean                      0.032330                     0.025864   \n",
       "std                       0.176876                     0.158730   \n",
       "min                       0.000000                     0.000000   \n",
       "25%                       0.000000                     0.000000   \n",
       "50%                       0.000000                     0.000000   \n",
       "75%                       0.000000                     0.000000   \n",
       "max                       1.000000                     1.000000   \n",
       "\n",
       "       Holding_Policy_Duration_9.0  Reco_Policy_Premium_log  \n",
       "count                 50882.000000             50882.000000  \n",
       "mean                      0.021894                 9.447436  \n",
       "std                       0.146338                 0.489185  \n",
       "min                       0.000000                 7.731931  \n",
       "25%                       0.000000                 9.132163  \n",
       "50%                       0.000000                 9.486304  \n",
       "75%                       0.000000                 9.803446  \n",
       "max                       1.000000                10.677071  \n",
       "\n",
       "[8 rows x 72 columns]"
      ]
     },
     "execution_count": 10,
     "metadata": {},
     "output_type": "execute_result"
    }
   ],
   "source": [
    "TrainData.describe()"
   ]
  },
  {
   "cell_type": "code",
   "execution_count": 11,
   "id": "english-sussex",
   "metadata": {},
   "outputs": [],
   "source": [
    "#Frquency table for dependent variable in data"
   ]
  },
  {
   "cell_type": "code",
   "execution_count": 12,
   "id": "through-theory",
   "metadata": {},
   "outputs": [
    {
     "data": {
      "text/plain": [
       "0    38673\n",
       "1    12209\n",
       "Name: Response, dtype: int64"
      ]
     },
     "execution_count": 12,
     "metadata": {},
     "output_type": "execute_result"
    }
   ],
   "source": [
    "#Response is my dependent variable where 0 is no interst in policy and 1 is interest in policy and we counts \n",
    "TrainData['Response'].value_counts()"
   ]
  },
  {
   "cell_type": "code",
   "execution_count": 13,
   "id": "comfortable-venezuela",
   "metadata": {},
   "outputs": [],
   "source": [
    "#Create X and Y training and testing dataset"
   ]
  },
  {
   "cell_type": "code",
   "execution_count": 14,
   "id": "level-hands",
   "metadata": {},
   "outputs": [],
   "source": [
    "predictors_Logistic=['Upper_Age', 'Lower_Age',\n",
    "       'Reco_Policy_Cat', 'Reco_Policy_Premium_log',\n",
    "       'Accomodation_Type_Rented', \n",
    "       'Is_Spouse_Yes', 'City_Code_C1', 'City_Code_C10', 'City_Code_C11',\n",
    "       'City_Code_C12', 'City_Code_C13', 'City_Code_C14', 'City_Code_C15',\n",
    "       'City_Code_C16', 'City_Code_C17', 'City_Code_C18', 'City_Code_C19',\n",
    "       'City_Code_C2', 'City_Code_C20', 'City_Code_C21', 'City_Code_C22',\n",
    "       'City_Code_C23', 'City_Code_C24', 'City_Code_C25', 'City_Code_C26',\n",
    "       'City_Code_C27', 'City_Code_C28', 'City_Code_C29', 'City_Code_C3',\n",
    "       'City_Code_C30', 'City_Code_C32', 'City_Code_C33',\n",
    "       'City_Code_C34', 'City_Code_C35', 'City_Code_C36', 'City_Code_C4',\n",
    "       'City_Code_C5', 'City_Code_C6', 'City_Code_C7', 'City_Code_C8',\n",
    "       'City_Code_C9', 'Health Indicator_X1', 'Health Indicator_X2',\n",
    "       'Health Indicator_X3', 'Health Indicator_X4', 'Health Indicator_X5',\n",
    "       'Health Indicator_X6', 'Health Indicator_X7', 'Health Indicator_X8',\n",
    "       'Health Indicator_X9', 'Holding_Policy_Duration_1.0',\n",
    "       'Holding_Policy_Duration_10.0', 'Holding_Policy_Duration_11.0',\n",
    "       'Holding_Policy_Duration_12.0', 'Holding_Policy_Duration_13.0',\n",
    "       'Holding_Policy_Duration_14+', 'Holding_Policy_Duration_14.0',\n",
    "       'Holding_Policy_Duration_2.0', 'Holding_Policy_Duration_3.0',\n",
    "       'Holding_Policy_Duration_4.0', 'Holding_Policy_Duration_5.0',\n",
    "       'Holding_Policy_Duration_6.0', 'Holding_Policy_Duration_7.0',\n",
    "       'Holding_Policy_Duration_8.0', 'Holding_Policy_Duration_9.0']\n",
    "\n",
    "\n"
   ]
  },
  {
   "cell_type": "code",
   "execution_count": 15,
   "id": "parliamentary-sustainability",
   "metadata": {},
   "outputs": [],
   "source": [
    "from sklearn.model_selection import train_test_split, cross_val_score\n",
    "from sklearn.metrics import accuracy_score, classification_report, precision_score, recall_score \n",
    "from sklearn.metrics import confusion_matrix, precision_recall_curve, roc_curve, auc, log_loss\n",
    "from sklearn.linear_model import LogisticRegression\n",
    "import matplotlib.pyplot as plt \n",
    "# create X (features) and y (response)\n",
    "X = TrainData[list(predictors_Logistic)].values\n",
    "y = TrainData[\"Response\"].values\n",
    "# use train/test split with different random_state values\n",
    "# we can change the random_state values that changes the accuracy scores\n",
    "# the scores change a lot, this is why testing scores is a high-variance estimate\n",
    "X_train, X_test, y_train, y_test = train_test_split(X, y, test_size=0.33, random_state=2)\n",
    "\n"
   ]
  },
  {
   "cell_type": "code",
   "execution_count": 16,
   "id": "severe-cigarette",
   "metadata": {},
   "outputs": [],
   "source": [
    "#used standard scaler for fit the data\n",
    "from sklearn.preprocessing import StandardScaler\n",
    "sc=StandardScaler()\n",
    "X_train=sc.fit_transform(X_train)\n",
    "X_test=sc.fit_transform(X_test)"
   ]
  },
  {
   "cell_type": "code",
   "execution_count": 17,
   "id": "improved-chocolate",
   "metadata": {},
   "outputs": [],
   "source": [
    "#Fit logistics Regression\n",
    "from sklearn.linear_model import LogisticRegression\n",
    "from sklearn.metrics import precision_recall_curve\n",
    "from sklearn.metrics import f1_score\n",
    "from sklearn.metrics import roc_auc_score\n",
    "from sklearn.metrics import accuracy_score"
   ]
  },
  {
   "cell_type": "code",
   "execution_count": 21,
   "id": "prime-cabinet",
   "metadata": {},
   "outputs": [
    {
     "name": "stdout",
     "output_type": "stream",
     "text": [
      "Logistic regression accuracy 0.7573449401523396\n",
      "ROCAUC score:  0.5\n",
      "F1 score: 0.0\n"
     ]
    }
   ],
   "source": [
    "\n",
    "lr=LogisticRegression(random_state=0)\n",
    "lr.fit(X_train, y_train)\n",
    "y_pred = lr.predict(X_test)\n",
    "accuracy = accuracy_score(y_test, y_pred)\n",
    "print('Logistic regression accuracy', accuracy)\n",
    "print('ROCAUC score: ', roc_auc_score(y_test, y_pred))\n",
    "print('F1 score:',f1_score(y_test, y_pred))"
   ]
  },
  {
   "cell_type": "code",
   "execution_count": 22,
   "id": "central-small",
   "metadata": {},
   "outputs": [],
   "source": [
    "#Fit model using SVM Classifier"
   ]
  },
  {
   "cell_type": "code",
   "execution_count": null,
   "id": "welcome-nomination",
   "metadata": {},
   "outputs": [],
   "source": [
    "from sklearn import datasets, metrics, model_selection, svm\n",
    "clf = svm.SVC(random_state=0)\n",
    "clf.fit(X_train, y_train)\n",
    "y_pred = clf.predict(X_test)\n",
    "accuracy = accuracy_score(y_test, y_pred)\n",
    "print(\"Accuracy: %.2f%%\" % (accuracy * 100.0)) \n",
    "print('ROCAUC score: %.2f%%',roc_auc_score(y_test, y_pred))\n",
    "print('F1 score:',f1_score(y_test, y_pred))"
   ]
  },
  {
   "cell_type": "code",
   "execution_count": 80,
   "id": "crude-humanity",
   "metadata": {},
   "outputs": [],
   "source": [
    "#Fit model using Random Forest Classifier"
   ]
  },
  {
   "cell_type": "code",
   "execution_count": 81,
   "id": "respected-linux",
   "metadata": {},
   "outputs": [
    {
     "name": "stdout",
     "output_type": "stream",
     "text": [
      "Accuracy: 75.73%\n",
      "ROCAUC score: %.2f%% 0.5\n",
      "F1 score: 0.0\n"
     ]
    }
   ],
   "source": [
    "from sklearn.ensemble import RandomForestClassifier\n",
    "rfc = RandomForestClassifier(max_depth=2, random_state=0) \n",
    "rfc.fit(X_train, y_train)\n",
    "y_pred = rfc.predict(X_test)\n",
    "accuracy = accuracy_score(y_test, y_pred)\n",
    "print(\"Accuracy: %.2f%%\" % (accuracy * 100.0)) \n",
    "print('ROCAUC score: %.2f%%',roc_auc_score(y_test, y_pred))\n",
    "print('F1 score:',f1_score(y_test, y_pred))"
   ]
  },
  {
   "cell_type": "code",
   "execution_count": 82,
   "id": "possible-suspect",
   "metadata": {},
   "outputs": [],
   "source": [
    "#Fit model using XGBoost"
   ]
  },
  {
   "cell_type": "code",
   "execution_count": 17,
   "id": "raising-seating",
   "metadata": {},
   "outputs": [
    {
     "name": "stderr",
     "output_type": "stream",
     "text": [
      "d:\\a\\cc\\ana\\envs\\insurance\\lib\\site-packages\\xgboost\\sklearn.py:888: UserWarning: The use of label encoder in XGBClassifier is deprecated and will be removed in a future release. To remove this warning, do the following: 1) Pass option use_label_encoder=False when constructing XGBClassifier object; and 2) Encode your labels (y) as integers starting with 0, i.e. 0, 1, 2, ..., [num_class - 1].\n",
      "  warnings.warn(label_encoder_deprecation_msg, UserWarning)\n"
     ]
    },
    {
     "name": "stdout",
     "output_type": "stream",
     "text": [
      "[22:21:38] WARNING: C:/Users/Administrator/workspace/xgboost-win64_release_1.3.0/src/learner.cc:1061: Starting in XGBoost 1.3.0, the default evaluation metric used with the objective 'binary:logistic' was changed from 'error' to 'logloss'. Explicitly set eval_metric if you'd like to restore the old behavior.\n",
      "Accuracy: 71.73%\n"
     ]
    },
    {
     "ename": "NameError",
     "evalue": "name 'roc_auc_score' is not defined",
     "output_type": "error",
     "traceback": [
      "\u001b[1;31m---------------------------------------------------------------------------\u001b[0m",
      "\u001b[1;31mNameError\u001b[0m                                 Traceback (most recent call last)",
      "\u001b[1;32m<ipython-input-17-b46e838fa7f8>\u001b[0m in \u001b[0;36m<module>\u001b[1;34m\u001b[0m\n\u001b[0;32m      9\u001b[0m \u001b[0maccuracy\u001b[0m \u001b[1;33m=\u001b[0m \u001b[0maccuracy_score\u001b[0m\u001b[1;33m(\u001b[0m\u001b[0my_test\u001b[0m\u001b[1;33m,\u001b[0m \u001b[0my_pred\u001b[0m\u001b[1;33m)\u001b[0m\u001b[1;33m\u001b[0m\u001b[1;33m\u001b[0m\u001b[0m\n\u001b[0;32m     10\u001b[0m \u001b[0mprint\u001b[0m\u001b[1;33m(\u001b[0m\u001b[1;34m\"Accuracy: %.2f%%\"\u001b[0m \u001b[1;33m%\u001b[0m \u001b[1;33m(\u001b[0m\u001b[0maccuracy\u001b[0m \u001b[1;33m*\u001b[0m \u001b[1;36m100.0\u001b[0m\u001b[1;33m)\u001b[0m\u001b[1;33m)\u001b[0m\u001b[1;33m\u001b[0m\u001b[1;33m\u001b[0m\u001b[0m\n\u001b[1;32m---> 11\u001b[1;33m \u001b[0mprint\u001b[0m\u001b[1;33m(\u001b[0m\u001b[1;34m'ROCAUC score: %.2f%%'\u001b[0m\u001b[1;33m,\u001b[0m\u001b[0mroc_auc_score\u001b[0m\u001b[1;33m(\u001b[0m\u001b[0my_test\u001b[0m\u001b[1;33m,\u001b[0m \u001b[0my_pred\u001b[0m\u001b[1;33m)\u001b[0m\u001b[1;33m)\u001b[0m\u001b[1;33m\u001b[0m\u001b[1;33m\u001b[0m\u001b[0m\n\u001b[0m\u001b[0;32m     12\u001b[0m \u001b[0mprint\u001b[0m\u001b[1;33m(\u001b[0m\u001b[1;34m'F1 score:'\u001b[0m\u001b[1;33m,\u001b[0m\u001b[0mf1_score\u001b[0m\u001b[1;33m(\u001b[0m\u001b[0my_test\u001b[0m\u001b[1;33m,\u001b[0m \u001b[0my_pred\u001b[0m\u001b[1;33m)\u001b[0m\u001b[1;33m)\u001b[0m\u001b[1;33m\u001b[0m\u001b[1;33m\u001b[0m\u001b[0m\n",
      "\u001b[1;31mNameError\u001b[0m: name 'roc_auc_score' is not defined"
     ]
    }
   ],
   "source": [
    "from xgboost import XGBClassifier\n",
    "from sklearn.model_selection import train_test_split\n",
    "from sklearn.metrics import accuracy_score\n",
    "\n",
    "model =  XGBClassifier(learning_rate=0.45,n_estimators=1000,random_state=100,n_jobs=10)\n",
    "model.fit(X_train, y_train)\n",
    "y_pred = model.predict(X_test)\n",
    "\n",
    "accuracy = accuracy_score(y_test, y_pred)\n",
    "print(\"Accuracy: %.2f%%\" % (accuracy * 100.0))\n",
    "print('ROCAUC score: %.2f%%',roc_auc_score(y_test, y_pred))\n",
    "print('F1 score:',f1_score(y_test, y_pred))\n"
   ]
  },
  {
   "cell_type": "code",
   "execution_count": null,
   "id": "respiratory-hindu",
   "metadata": {},
   "outputs": [],
   "source": [
    "\n",
    "y_pred_proba = xgbmodel.predict_proba(X_test)[:, 1]\n",
    "[fpr, tpr, thr] = roc_curve(y_test, y_pred_proba)\n",
    "accuracy = accuracy_score(y_test, y_pred)\n",
    "\n",
    "y_pred_proba = xgbmodel.predict_proba(X_test)[:, 1]\n",
    "\n",
    "idx = np.min(np.where(tpr > 0.95)) # index of the first threshold for which the sensibility > 0.95\n"
   ]
  },
  {
   "cell_type": "code",
   "execution_count": null,
   "id": "weekly-duncan",
   "metadata": {},
   "outputs": [],
   "source": [
    "plt.figure()\n",
    "plt.plot(fpr, tpr, color='coral', label='ROC curve (area = %0.3f)' % auc(fpr, tpr))\n",
    "plt.plot([0, 1], [0, 1], 'k--')\n",
    "plt.plot([0,fpr[idx]], [tpr[idx],tpr[idx]], 'k--', color='blue')\n",
    "plt.plot([fpr[idx],fpr[idx]], [0,tpr[idx]], 'k--', color='blue')\n",
    "plt.xlim([0.0, 1.0])\n",
    "plt.ylim([0.0, 1.05])\n",
    "plt.xlabel('False Positive Rate (1 - specificity)', fontsize=14)\n",
    "plt.ylabel('True Positive Rate (recall)', fontsize=14)\n",
    "plt.title('Receiver operating characteristic (ROC) curve')\n",
    "plt.legend(loc=\"lower right\")\n",
    "plt.show()\n",
    "\n",
    "print(\"Using a threshold of %.3f \" % thr[idx] + \"guarantees a sensitivity of %.3f \" % tpr[idx] +  \n",
    "      \"and a specificity of %.3f\" % (1-fpr[idx]) + \n",
    "      \", i.e. a false positive rate of %.2f%%.\" % (np.array(fpr[idx])*100))"
   ]
  },
  {
   "cell_type": "code",
   "execution_count": 79,
   "id": "precious-allowance",
   "metadata": {},
   "outputs": [],
   "source": [
    "TestData=pd.read_csv(\"Data/test_YCcRUnU.csv\")"
   ]
  },
  {
   "cell_type": "code",
   "execution_count": 80,
   "id": "unlikely-static",
   "metadata": {},
   "outputs": [],
   "source": [
    "FinalTestData = pd.get_dummies(TestData, \n",
    "                     columns = ['Accomodation_Type', 'Reco_Insurance_Type','Is_Spouse'],drop_first=True)"
   ]
  },
  {
   "cell_type": "code",
   "execution_count": 81,
   "id": "senior-shelf",
   "metadata": {},
   "outputs": [],
   "source": [
    "FinalTestData = pd.get_dummies(FinalTestData, \n",
    "                     columns = ['City_Code', 'Health Indicator','Holding_Policy_Duration'])"
   ]
  },
  {
   "cell_type": "code",
   "execution_count": 82,
   "id": "junior-network",
   "metadata": {},
   "outputs": [
    {
     "data": {
      "text/html": [
       "<div>\n",
       "<style scoped>\n",
       "    .dataframe tbody tr th:only-of-type {\n",
       "        vertical-align: middle;\n",
       "    }\n",
       "\n",
       "    .dataframe tbody tr th {\n",
       "        vertical-align: top;\n",
       "    }\n",
       "\n",
       "    .dataframe thead th {\n",
       "        text-align: right;\n",
       "    }\n",
       "</style>\n",
       "<table border=\"1\" class=\"dataframe\">\n",
       "  <thead>\n",
       "    <tr style=\"text-align: right;\">\n",
       "      <th></th>\n",
       "      <th>ID</th>\n",
       "      <th>Region_Code</th>\n",
       "      <th>Upper_Age</th>\n",
       "      <th>Lower_Age</th>\n",
       "      <th>Holding_Policy_Type</th>\n",
       "      <th>Reco_Policy_Cat</th>\n",
       "      <th>Reco_Policy_Premium</th>\n",
       "      <th>Accomodation_Type_Rented</th>\n",
       "      <th>Reco_Insurance_Type_Joint</th>\n",
       "      <th>Is_Spouse_Yes</th>\n",
       "      <th>...</th>\n",
       "      <th>Holding_Policy_Duration_14+</th>\n",
       "      <th>Holding_Policy_Duration_14.0</th>\n",
       "      <th>Holding_Policy_Duration_2.0</th>\n",
       "      <th>Holding_Policy_Duration_3.0</th>\n",
       "      <th>Holding_Policy_Duration_4.0</th>\n",
       "      <th>Holding_Policy_Duration_5.0</th>\n",
       "      <th>Holding_Policy_Duration_6.0</th>\n",
       "      <th>Holding_Policy_Duration_7.0</th>\n",
       "      <th>Holding_Policy_Duration_8.0</th>\n",
       "      <th>Holding_Policy_Duration_9.0</th>\n",
       "    </tr>\n",
       "  </thead>\n",
       "  <tbody>\n",
       "    <tr>\n",
       "      <th>0</th>\n",
       "      <td>50883</td>\n",
       "      <td>156</td>\n",
       "      <td>30</td>\n",
       "      <td>30</td>\n",
       "      <td>3.0</td>\n",
       "      <td>5</td>\n",
       "      <td>11934.0</td>\n",
       "      <td>0</td>\n",
       "      <td>0</td>\n",
       "      <td>0</td>\n",
       "      <td>...</td>\n",
       "      <td>0</td>\n",
       "      <td>0</td>\n",
       "      <td>0</td>\n",
       "      <td>0</td>\n",
       "      <td>0</td>\n",
       "      <td>0</td>\n",
       "      <td>1</td>\n",
       "      <td>0</td>\n",
       "      <td>0</td>\n",
       "      <td>0</td>\n",
       "    </tr>\n",
       "    <tr>\n",
       "      <th>1</th>\n",
       "      <td>50884</td>\n",
       "      <td>7</td>\n",
       "      <td>69</td>\n",
       "      <td>68</td>\n",
       "      <td>3.0</td>\n",
       "      <td>18</td>\n",
       "      <td>32204.8</td>\n",
       "      <td>0</td>\n",
       "      <td>1</td>\n",
       "      <td>1</td>\n",
       "      <td>...</td>\n",
       "      <td>0</td>\n",
       "      <td>0</td>\n",
       "      <td>0</td>\n",
       "      <td>1</td>\n",
       "      <td>0</td>\n",
       "      <td>0</td>\n",
       "      <td>0</td>\n",
       "      <td>0</td>\n",
       "      <td>0</td>\n",
       "      <td>0</td>\n",
       "    </tr>\n",
       "  </tbody>\n",
       "</table>\n",
       "<p>2 rows × 70 columns</p>\n",
       "</div>"
      ],
      "text/plain": [
       "      ID  Region_Code  Upper_Age  Lower_Age  Holding_Policy_Type  \\\n",
       "0  50883          156         30         30                  3.0   \n",
       "1  50884            7         69         68                  3.0   \n",
       "\n",
       "   Reco_Policy_Cat  Reco_Policy_Premium  Accomodation_Type_Rented  \\\n",
       "0                5              11934.0                         0   \n",
       "1               18              32204.8                         0   \n",
       "\n",
       "   Reco_Insurance_Type_Joint  Is_Spouse_Yes  ...  Holding_Policy_Duration_14+  \\\n",
       "0                          0              0  ...                            0   \n",
       "1                          1              1  ...                            0   \n",
       "\n",
       "   Holding_Policy_Duration_14.0  Holding_Policy_Duration_2.0  \\\n",
       "0                             0                            0   \n",
       "1                             0                            0   \n",
       "\n",
       "   Holding_Policy_Duration_3.0  Holding_Policy_Duration_4.0  \\\n",
       "0                            0                            0   \n",
       "1                            1                            0   \n",
       "\n",
       "   Holding_Policy_Duration_5.0  Holding_Policy_Duration_6.0  \\\n",
       "0                            0                            1   \n",
       "1                            0                            0   \n",
       "\n",
       "   Holding_Policy_Duration_7.0  Holding_Policy_Duration_8.0  \\\n",
       "0                            0                            0   \n",
       "1                            0                            0   \n",
       "\n",
       "   Holding_Policy_Duration_9.0  \n",
       "0                            0  \n",
       "1                            0  \n",
       "\n",
       "[2 rows x 70 columns]"
      ]
     },
     "execution_count": 82,
     "metadata": {},
     "output_type": "execute_result"
    }
   ],
   "source": [
    "FinalTestData.head(2)"
   ]
  },
  {
   "cell_type": "code",
   "execution_count": 83,
   "id": "photographic-overhead",
   "metadata": {},
   "outputs": [],
   "source": [
    "FinalTestData['Reco_Policy_Premium_log'] = np.log(FinalTestData['Reco_Policy_Premium'])"
   ]
  },
  {
   "cell_type": "code",
   "execution_count": 38,
   "id": "minus-implementation",
   "metadata": {},
   "outputs": [],
   "source": [
    "FinalTestData=FinalTestData.drop(['Holding_Policy_Type'], axis=1)"
   ]
  },
  {
   "cell_type": "code",
   "execution_count": 84,
   "id": "prime-wound",
   "metadata": {},
   "outputs": [
    {
     "data": {
      "text/plain": [
       "ID                                0\n",
       "Region_Code                       0\n",
       "Upper_Age                         0\n",
       "Lower_Age                         0\n",
       "Holding_Policy_Type            8603\n",
       "                               ... \n",
       "Holding_Policy_Duration_6.0       0\n",
       "Holding_Policy_Duration_7.0       0\n",
       "Holding_Policy_Duration_8.0       0\n",
       "Holding_Policy_Duration_9.0       0\n",
       "Reco_Policy_Premium_log           0\n",
       "Length: 71, dtype: int64"
      ]
     },
     "execution_count": 84,
     "metadata": {},
     "output_type": "execute_result"
    }
   ],
   "source": [
    "FinalTestData.isna().sum()"
   ]
  },
  {
   "cell_type": "code",
   "execution_count": 39,
   "id": "engaging-contrary",
   "metadata": {},
   "outputs": [
    {
     "data": {
      "text/plain": [
       "ID                             0\n",
       "Region_Code                    0\n",
       "Upper_Age                      0\n",
       "Lower_Age                      0\n",
       "Reco_Policy_Cat                0\n",
       "                              ..\n",
       "Holding_Policy_Duration_6.0    0\n",
       "Holding_Policy_Duration_7.0    0\n",
       "Holding_Policy_Duration_8.0    0\n",
       "Holding_Policy_Duration_9.0    0\n",
       "Reco_Policy_Premium_log        0\n",
       "Length: 70, dtype: int64"
      ]
     },
     "execution_count": 39,
     "metadata": {},
     "output_type": "execute_result"
    }
   ],
   "source": [
    "FinalTestData.isna().sum()"
   ]
  },
  {
   "cell_type": "code",
   "execution_count": 40,
   "id": "weird-element",
   "metadata": {},
   "outputs": [],
   "source": [
    "predictors_Logistic=['Upper_Age', 'Lower_Age',\n",
    "       'Reco_Policy_Cat', 'Accomodation_Type_Rented',\n",
    "        'Is_Spouse_Yes', 'City_Code_C1',\n",
    "       'City_Code_C10', 'City_Code_C11', 'City_Code_C12', 'City_Code_C13',\n",
    "       'City_Code_C14', 'City_Code_C15', 'City_Code_C16', 'City_Code_C17',\n",
    "       'City_Code_C18', 'City_Code_C19', 'City_Code_C2', 'City_Code_C20',\n",
    "       'City_Code_C21', 'City_Code_C22', 'City_Code_C23', 'City_Code_C24',\n",
    "       'City_Code_C25', 'City_Code_C26', 'City_Code_C27', 'City_Code_C28',\n",
    "       'City_Code_C29', 'City_Code_C3', 'City_Code_C30', 'City_Code_C31',\n",
    "       'City_Code_C32', 'City_Code_C33', 'City_Code_C34', 'City_Code_C35',\n",
    "       'City_Code_C36', 'City_Code_C4', 'City_Code_C5', 'City_Code_C6',\n",
    "       'City_Code_C7', 'City_Code_C8', 'City_Code_C9', 'Health Indicator_X1',\n",
    "       'Health Indicator_X2', 'Health Indicator_X3', 'Health Indicator_X4',\n",
    "       'Health Indicator_X5', 'Health Indicator_X6', 'Health Indicator_X7',\n",
    "       'Health Indicator_X8', 'Health Indicator_X9',\n",
    "       'Holding_Policy_Duration_1.0', 'Holding_Policy_Duration_10.0',\n",
    "       'Holding_Policy_Duration_11.0', 'Holding_Policy_Duration_12.0',\n",
    "       'Holding_Policy_Duration_13.0', 'Holding_Policy_Duration_14+',\n",
    "       'Holding_Policy_Duration_14.0', 'Holding_Policy_Duration_2.0',\n",
    "       'Holding_Policy_Duration_3.0', 'Holding_Policy_Duration_4.0',\n",
    "       'Holding_Policy_Duration_5.0', 'Holding_Policy_Duration_6.0',\n",
    "       'Holding_Policy_Duration_7.0', 'Holding_Policy_Duration_8.0',\n",
    "       'Holding_Policy_Duration_9.0', 'Reco_Policy_Premium_log']"
   ]
  },
  {
   "cell_type": "code",
   "execution_count": 52,
   "id": "original-startup",
   "metadata": {},
   "outputs": [
    {
     "data": {
      "text/plain": [
       "array([0, 0, 0, ..., 0, 0, 0], dtype=int64)"
      ]
     },
     "execution_count": 52,
     "metadata": {},
     "output_type": "execute_result"
    }
   ],
   "source": [
    "clf.predict(FinalTestData[predictors_Logistic])"
   ]
  },
  {
   "cell_type": "code",
   "execution_count": 87,
   "id": "fourth-walnut",
   "metadata": {},
   "outputs": [
    {
     "data": {
      "text/html": [
       "<div>\n",
       "<style scoped>\n",
       "    .dataframe tbody tr th:only-of-type {\n",
       "        vertical-align: middle;\n",
       "    }\n",
       "\n",
       "    .dataframe tbody tr th {\n",
       "        vertical-align: top;\n",
       "    }\n",
       "\n",
       "    .dataframe thead th {\n",
       "        text-align: right;\n",
       "    }\n",
       "</style>\n",
       "<table border=\"1\" class=\"dataframe\">\n",
       "  <thead>\n",
       "    <tr style=\"text-align: right;\">\n",
       "      <th></th>\n",
       "      <th>ID</th>\n",
       "      <th>Response</th>\n",
       "    </tr>\n",
       "  </thead>\n",
       "  <tbody>\n",
       "    <tr>\n",
       "      <th>21800</th>\n",
       "      <td>72683</td>\n",
       "      <td>0</td>\n",
       "    </tr>\n",
       "    <tr>\n",
       "      <th>21801</th>\n",
       "      <td>72684</td>\n",
       "      <td>0</td>\n",
       "    </tr>\n",
       "    <tr>\n",
       "      <th>21802</th>\n",
       "      <td>72685</td>\n",
       "      <td>0</td>\n",
       "    </tr>\n",
       "    <tr>\n",
       "      <th>21803</th>\n",
       "      <td>72686</td>\n",
       "      <td>0</td>\n",
       "    </tr>\n",
       "    <tr>\n",
       "      <th>21804</th>\n",
       "      <td>72687</td>\n",
       "      <td>0</td>\n",
       "    </tr>\n",
       "  </tbody>\n",
       "</table>\n",
       "</div>"
      ],
      "text/plain": [
       "          ID  Response\n",
       "21800  72683         0\n",
       "21801  72684         0\n",
       "21802  72685         0\n",
       "21803  72686         0\n",
       "21804  72687         0"
      ]
     },
     "execution_count": 87,
     "metadata": {},
     "output_type": "execute_result"
    }
   ],
   "source": [
    "X_val=FinalTestData[predictors_Logistic]\n",
    "\n",
    "FinalTestData['Response'] = model.predict(X_val.values)\n",
    "FinalTestData['ID'] = TestData['ID']\n",
    "\n",
    "submission = FinalTestData[['ID','Response']]\n",
    "\n",
    "submission.to_csv(\"submission_xgboost.csv\", index=False)\n",
    "\n",
    "submission.tail()\n"
   ]
  },
  {
   "cell_type": "code",
   "execution_count": null,
   "id": "rural-absolute",
   "metadata": {},
   "outputs": [],
   "source": []
  }
 ],
 "metadata": {
  "kernelspec": {
   "display_name": "Python 3",
   "language": "python",
   "name": "python3"
  },
  "language_info": {
   "codemirror_mode": {
    "name": "ipython",
    "version": 3
   },
   "file_extension": ".py",
   "mimetype": "text/x-python",
   "name": "python",
   "nbconvert_exporter": "python",
   "pygments_lexer": "ipython3",
   "version": "3.6.12"
  }
 },
 "nbformat": 4,
 "nbformat_minor": 5
}

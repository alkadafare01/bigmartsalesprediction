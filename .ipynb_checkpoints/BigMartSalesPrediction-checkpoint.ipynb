{
 "cells": [
  {
   "cell_type": "code",
   "execution_count": 1,
   "metadata": {},
   "outputs": [],
   "source": [
    "#imports library"
   ]
  },
  {
   "cell_type": "code",
   "execution_count": 1,
   "metadata": {},
   "outputs": [],
   "source": [
    "import os\n",
    "import pandas as pd\n",
    "import numpy as np"
   ]
  },
  {
   "cell_type": "code",
   "execution_count": 2,
   "metadata": {},
   "outputs": [],
   "source": [
    "import seaborn as sns\n",
    "import matplotlib.pyplot as plt"
   ]
  },
  {
   "cell_type": "markdown",
   "metadata": {},
   "source": [
    "#Load data"
   ]
  },
  {
   "cell_type": "code",
   "execution_count": 3,
   "metadata": {},
   "outputs": [],
   "source": [
    "# Load housing data\n",
    "TrainData = pd.read_csv(\"train.csv\")\n",
    "\n",
    "#Sample=pd.read_csv(\"sample_submission.csv\")"
   ]
  },
  {
   "cell_type": "code",
   "execution_count": 4,
   "metadata": {},
   "outputs": [
    {
     "data": {
      "text/html": [
       "<div>\n",
       "<style scoped>\n",
       "    .dataframe tbody tr th:only-of-type {\n",
       "        vertical-align: middle;\n",
       "    }\n",
       "\n",
       "    .dataframe tbody tr th {\n",
       "        vertical-align: top;\n",
       "    }\n",
       "\n",
       "    .dataframe thead th {\n",
       "        text-align: right;\n",
       "    }\n",
       "</style>\n",
       "<table border=\"1\" class=\"dataframe\">\n",
       "  <thead>\n",
       "    <tr style=\"text-align: right;\">\n",
       "      <th></th>\n",
       "      <th>Item_Identifier</th>\n",
       "      <th>Item_Weight</th>\n",
       "      <th>Item_Fat_Content</th>\n",
       "      <th>Item_Visibility</th>\n",
       "      <th>Item_Type</th>\n",
       "      <th>Item_MRP</th>\n",
       "      <th>Outlet_Identifier</th>\n",
       "      <th>Outlet_Establishment_Year</th>\n",
       "      <th>Outlet_Size</th>\n",
       "      <th>Outlet_Location_Type</th>\n",
       "      <th>Outlet_Type</th>\n",
       "      <th>Item_Outlet_Sales</th>\n",
       "    </tr>\n",
       "  </thead>\n",
       "  <tbody>\n",
       "    <tr>\n",
       "      <th>0</th>\n",
       "      <td>FDA15</td>\n",
       "      <td>9.30</td>\n",
       "      <td>Low Fat</td>\n",
       "      <td>0.016047</td>\n",
       "      <td>Dairy</td>\n",
       "      <td>249.8092</td>\n",
       "      <td>OUT049</td>\n",
       "      <td>1999</td>\n",
       "      <td>Medium</td>\n",
       "      <td>Tier 1</td>\n",
       "      <td>Supermarket Type1</td>\n",
       "      <td>3735.1380</td>\n",
       "    </tr>\n",
       "    <tr>\n",
       "      <th>1</th>\n",
       "      <td>DRC01</td>\n",
       "      <td>5.92</td>\n",
       "      <td>Regular</td>\n",
       "      <td>0.019278</td>\n",
       "      <td>Soft Drinks</td>\n",
       "      <td>48.2692</td>\n",
       "      <td>OUT018</td>\n",
       "      <td>2009</td>\n",
       "      <td>Medium</td>\n",
       "      <td>Tier 3</td>\n",
       "      <td>Supermarket Type2</td>\n",
       "      <td>443.4228</td>\n",
       "    </tr>\n",
       "    <tr>\n",
       "      <th>2</th>\n",
       "      <td>FDN15</td>\n",
       "      <td>17.50</td>\n",
       "      <td>Low Fat</td>\n",
       "      <td>0.016760</td>\n",
       "      <td>Meat</td>\n",
       "      <td>141.6180</td>\n",
       "      <td>OUT049</td>\n",
       "      <td>1999</td>\n",
       "      <td>Medium</td>\n",
       "      <td>Tier 1</td>\n",
       "      <td>Supermarket Type1</td>\n",
       "      <td>2097.2700</td>\n",
       "    </tr>\n",
       "    <tr>\n",
       "      <th>3</th>\n",
       "      <td>FDX07</td>\n",
       "      <td>19.20</td>\n",
       "      <td>Regular</td>\n",
       "      <td>0.000000</td>\n",
       "      <td>Fruits and Vegetables</td>\n",
       "      <td>182.0950</td>\n",
       "      <td>OUT010</td>\n",
       "      <td>1998</td>\n",
       "      <td>NaN</td>\n",
       "      <td>Tier 3</td>\n",
       "      <td>Grocery Store</td>\n",
       "      <td>732.3800</td>\n",
       "    </tr>\n",
       "    <tr>\n",
       "      <th>4</th>\n",
       "      <td>NCD19</td>\n",
       "      <td>8.93</td>\n",
       "      <td>Low Fat</td>\n",
       "      <td>0.000000</td>\n",
       "      <td>Household</td>\n",
       "      <td>53.8614</td>\n",
       "      <td>OUT013</td>\n",
       "      <td>1987</td>\n",
       "      <td>High</td>\n",
       "      <td>Tier 3</td>\n",
       "      <td>Supermarket Type1</td>\n",
       "      <td>994.7052</td>\n",
       "    </tr>\n",
       "  </tbody>\n",
       "</table>\n",
       "</div>"
      ],
      "text/plain": [
       "  Item_Identifier  Item_Weight Item_Fat_Content  Item_Visibility  \\\n",
       "0           FDA15         9.30          Low Fat         0.016047   \n",
       "1           DRC01         5.92          Regular         0.019278   \n",
       "2           FDN15        17.50          Low Fat         0.016760   \n",
       "3           FDX07        19.20          Regular         0.000000   \n",
       "4           NCD19         8.93          Low Fat         0.000000   \n",
       "\n",
       "               Item_Type  Item_MRP Outlet_Identifier  \\\n",
       "0                  Dairy  249.8092            OUT049   \n",
       "1            Soft Drinks   48.2692            OUT018   \n",
       "2                   Meat  141.6180            OUT049   \n",
       "3  Fruits and Vegetables  182.0950            OUT010   \n",
       "4              Household   53.8614            OUT013   \n",
       "\n",
       "   Outlet_Establishment_Year Outlet_Size Outlet_Location_Type  \\\n",
       "0                       1999      Medium               Tier 1   \n",
       "1                       2009      Medium               Tier 3   \n",
       "2                       1999      Medium               Tier 1   \n",
       "3                       1998         NaN               Tier 3   \n",
       "4                       1987        High               Tier 3   \n",
       "\n",
       "         Outlet_Type  Item_Outlet_Sales  \n",
       "0  Supermarket Type1          3735.1380  \n",
       "1  Supermarket Type2           443.4228  \n",
       "2  Supermarket Type1          2097.2700  \n",
       "3      Grocery Store           732.3800  \n",
       "4  Supermarket Type1           994.7052  "
      ]
     },
     "execution_count": 4,
     "metadata": {},
     "output_type": "execute_result"
    }
   ],
   "source": [
    "TrainData.head(5)"
   ]
  },
  {
   "cell_type": "code",
   "execution_count": 5,
   "metadata": {},
   "outputs": [
    {
     "data": {
      "text/plain": [
       "array(['Dairy', 'Soft Drinks', 'Meat', 'Fruits and Vegetables',\n",
       "       'Household', 'Baking Goods', 'Snack Foods', 'Frozen Foods',\n",
       "       'Breakfast', 'Health and Hygiene', 'Hard Drinks', 'Canned',\n",
       "       'Breads', 'Starchy Foods', 'Others', 'Seafood'], dtype=object)"
      ]
     },
     "execution_count": 5,
     "metadata": {},
     "output_type": "execute_result"
    }
   ],
   "source": [
    "TrainData['Item_Type'].unique()"
   ]
  },
  {
   "cell_type": "code",
   "execution_count": 6,
   "metadata": {},
   "outputs": [],
   "source": [
    "TrainData['Item_Fat_Content'] = TrainData['Item_Fat_Content'].replace({'Low Fat':'LF', 'low fat':'LF'})\n"
   ]
  },
  {
   "cell_type": "code",
   "execution_count": 7,
   "metadata": {},
   "outputs": [],
   "source": [
    "TrainData['Item_Fat_Content'] = TrainData['Item_Fat_Content'].replace({'reg':'Regular'})\n"
   ]
  },
  {
   "cell_type": "code",
   "execution_count": 8,
   "metadata": {},
   "outputs": [
    {
     "data": {
      "text/plain": [
       "1985    1463\n",
       "1987     932\n",
       "1999     930\n",
       "1997     930\n",
       "2004     930\n",
       "2002     929\n",
       "2009     928\n",
       "2007     926\n",
       "1998     555\n",
       "Name: Outlet_Establishment_Year, dtype: int64"
      ]
     },
     "execution_count": 8,
     "metadata": {},
     "output_type": "execute_result"
    }
   ],
   "source": [
    "TrainData[\"Outlet_Establishment_Year\"].value_counts()"
   ]
  },
  {
   "cell_type": "code",
   "execution_count": 9,
   "metadata": {},
   "outputs": [
    {
     "data": {
      "text/plain": [
       "(8523, 12)"
      ]
     },
     "execution_count": 9,
     "metadata": {},
     "output_type": "execute_result"
    }
   ],
   "source": [
    "TrainData.shape"
   ]
  },
  {
   "cell_type": "code",
   "execution_count": 10,
   "metadata": {},
   "outputs": [
    {
     "data": {
      "text/plain": [
       "Item_Identifier                 0\n",
       "Item_Weight                  1463\n",
       "Item_Fat_Content                0\n",
       "Item_Visibility                 0\n",
       "Item_Type                       0\n",
       "Item_MRP                        0\n",
       "Outlet_Identifier               0\n",
       "Outlet_Establishment_Year       0\n",
       "Outlet_Size                  2410\n",
       "Outlet_Location_Type            0\n",
       "Outlet_Type                     0\n",
       "Item_Outlet_Sales               0\n",
       "dtype: int64"
      ]
     },
     "execution_count": 10,
     "metadata": {},
     "output_type": "execute_result"
    }
   ],
   "source": [
    "TrainData.isnull().sum()"
   ]
  },
  {
   "cell_type": "code",
   "execution_count": 11,
   "metadata": {},
   "outputs": [
    {
     "data": {
      "text/plain": [
       "OUT027    935\n",
       "OUT013    932\n",
       "OUT035    930\n",
       "OUT049    930\n",
       "OUT046    930\n",
       "OUT045    929\n",
       "OUT018    928\n",
       "OUT017    926\n",
       "OUT010    555\n",
       "OUT019    528\n",
       "Name: Outlet_Identifier, dtype: int64"
      ]
     },
     "execution_count": 11,
     "metadata": {},
     "output_type": "execute_result"
    }
   ],
   "source": [
    "TrainData.Outlet_Identifier.value_counts()"
   ]
  },
  {
   "cell_type": "code",
   "execution_count": 12,
   "metadata": {},
   "outputs": [
    {
     "data": {
      "text/plain": [
       "0    Medium\n",
       "dtype: object"
      ]
     },
     "execution_count": 12,
     "metadata": {},
     "output_type": "execute_result"
    }
   ],
   "source": [
    "TrainData['Outlet_Size'].mode()"
   ]
  },
  {
   "cell_type": "code",
   "execution_count": null,
   "metadata": {},
   "outputs": [],
   "source": [
    "#Fill missing value"
   ]
  },
  {
   "cell_type": "code",
   "execution_count": 13,
   "metadata": {},
   "outputs": [],
   "source": [
    "\n",
    "TrainData['Outlet_Size']=TrainData['Outlet_Size'].fillna(TrainData['Outlet_Size'].mode()[0])"
   ]
  },
  {
   "cell_type": "code",
   "execution_count": null,
   "metadata": {},
   "outputs": [],
   "source": [
    "#convert categorical variable"
   ]
  },
  {
   "cell_type": "code",
   "execution_count": 14,
   "metadata": {},
   "outputs": [],
   "source": [
    "TrainData = pd.get_dummies(TrainData, \n",
    "                     columns = ['Item_Fat_Content','Item_Type','Outlet_Location_Type','Outlet_Type'],drop_first=True)"
   ]
  },
  {
   "cell_type": "code",
   "execution_count": 15,
   "metadata": {},
   "outputs": [],
   "source": [
    "from sklearn import preprocessing\n",
    "# label_encoder object knows how to understand word labels. \n",
    "label_encoder = preprocessing.LabelEncoder()\n",
    "# Encode labels in column 'Country'. \n",
    "TrainData['Outlet_Size']= label_encoder.fit_transform(TrainData['Outlet_Size']) "
   ]
  },
  {
   "cell_type": "code",
   "execution_count": 16,
   "metadata": {},
   "outputs": [],
   "source": [
    "TrainData['Outlet_Establishment_Year']= label_encoder.fit_transform(TrainData['Outlet_Establishment_Year']) "
   ]
  },
  {
   "cell_type": "code",
   "execution_count": 17,
   "metadata": {},
   "outputs": [],
   "source": [
    "TrainData = pd.get_dummies(TrainData, \n",
    "                     columns = ['Outlet_Identifier'],drop_first=True)"
   ]
  },
  {
   "cell_type": "code",
   "execution_count": null,
   "metadata": {},
   "outputs": [],
   "source": [
    "#Visalize data"
   ]
  },
  {
   "cell_type": "code",
   "execution_count": 20,
   "metadata": {},
   "outputs": [
    {
     "data": {
      "text/plain": [
       "<AxesSubplot:ylabel='Item_MRP'>"
      ]
     },
     "execution_count": 20,
     "metadata": {},
     "output_type": "execute_result"
    },
    {
     "data": {
      "image/png": "[encoded data removed]",
      "text/plain": [
       "<Figure size 432x288 with 1 Axes>"
      ]
     },
     "metadata": {
      "needs_background": "light"
     },
     "output_type": "display_data"
    }
   ],
   "source": [
    "sns.boxplot(y=TrainData[\"Item_MRP\"])"
   ]
  },
  {
   "cell_type": "code",
   "execution_count": 19,
   "metadata": {},
   "outputs": [],
   "source": [
    "\n",
    "TrainData['Item_Weight'].fillna((TrainData['Item_Weight'].mean()), inplace=True)"
   ]
  },
  {
   "cell_type": "code",
   "execution_count": 21,
   "metadata": {},
   "outputs": [
    {
     "data": {
      "text/html": [
       "<div>\n",
       "<style scoped>\n",
       "    .dataframe tbody tr th:only-of-type {\n",
       "        vertical-align: middle;\n",
       "    }\n",
       "\n",
       "    .dataframe tbody tr th {\n",
       "        vertical-align: top;\n",
       "    }\n",
       "\n",
       "    .dataframe thead th {\n",
       "        text-align: right;\n",
       "    }\n",
       "</style>\n",
       "<table border=\"1\" class=\"dataframe\">\n",
       "  <thead>\n",
       "    <tr style=\"text-align: right;\">\n",
       "      <th></th>\n",
       "      <th>Item_Identifier</th>\n",
       "      <th>Item_Weight</th>\n",
       "      <th>Item_Visibility</th>\n",
       "      <th>Item_MRP</th>\n",
       "      <th>Outlet_Establishment_Year</th>\n",
       "      <th>Outlet_Size</th>\n",
       "      <th>Item_Outlet_Sales</th>\n",
       "      <th>Item_Fat_Content_Regular</th>\n",
       "      <th>Item_Type_Breads</th>\n",
       "      <th>Item_Type_Breakfast</th>\n",
       "      <th>...</th>\n",
       "      <th>Outlet_Type_Supermarket Type3</th>\n",
       "      <th>Outlet_Identifier_OUT013</th>\n",
       "      <th>Outlet_Identifier_OUT017</th>\n",
       "      <th>Outlet_Identifier_OUT018</th>\n",
       "      <th>Outlet_Identifier_OUT019</th>\n",
       "      <th>Outlet_Identifier_OUT027</th>\n",
       "      <th>Outlet_Identifier_OUT035</th>\n",
       "      <th>Outlet_Identifier_OUT045</th>\n",
       "      <th>Outlet_Identifier_OUT046</th>\n",
       "      <th>Outlet_Identifier_OUT049</th>\n",
       "    </tr>\n",
       "  </thead>\n",
       "  <tbody>\n",
       "    <tr>\n",
       "      <th>0</th>\n",
       "      <td>FDA15</td>\n",
       "      <td>9.30</td>\n",
       "      <td>0.016047</td>\n",
       "      <td>249.8092</td>\n",
       "      <td>4</td>\n",
       "      <td>1</td>\n",
       "      <td>3735.1380</td>\n",
       "      <td>0</td>\n",
       "      <td>0</td>\n",
       "      <td>0</td>\n",
       "      <td>...</td>\n",
       "      <td>0</td>\n",
       "      <td>0</td>\n",
       "      <td>0</td>\n",
       "      <td>0</td>\n",
       "      <td>0</td>\n",
       "      <td>0</td>\n",
       "      <td>0</td>\n",
       "      <td>0</td>\n",
       "      <td>0</td>\n",
       "      <td>1</td>\n",
       "    </tr>\n",
       "    <tr>\n",
       "      <th>1</th>\n",
       "      <td>DRC01</td>\n",
       "      <td>5.92</td>\n",
       "      <td>0.019278</td>\n",
       "      <td>48.2692</td>\n",
       "      <td>8</td>\n",
       "      <td>1</td>\n",
       "      <td>443.4228</td>\n",
       "      <td>1</td>\n",
       "      <td>0</td>\n",
       "      <td>0</td>\n",
       "      <td>...</td>\n",
       "      <td>0</td>\n",
       "      <td>0</td>\n",
       "      <td>0</td>\n",
       "      <td>1</td>\n",
       "      <td>0</td>\n",
       "      <td>0</td>\n",
       "      <td>0</td>\n",
       "      <td>0</td>\n",
       "      <td>0</td>\n",
       "      <td>0</td>\n",
       "    </tr>\n",
       "  </tbody>\n",
       "</table>\n",
       "<p>2 rows × 37 columns</p>\n",
       "</div>"
      ],
      "text/plain": [
       "  Item_Identifier  Item_Weight  Item_Visibility  Item_MRP  \\\n",
       "0           FDA15         9.30         0.016047  249.8092   \n",
       "1           DRC01         5.92         0.019278   48.2692   \n",
       "\n",
       "   Outlet_Establishment_Year  Outlet_Size  Item_Outlet_Sales  \\\n",
       "0                          4            1          3735.1380   \n",
       "1                          8            1           443.4228   \n",
       "\n",
       "   Item_Fat_Content_Regular  Item_Type_Breads  Item_Type_Breakfast  ...  \\\n",
       "0                         0                 0                    0  ...   \n",
       "1                         1                 0                    0  ...   \n",
       "\n",
       "   Outlet_Type_Supermarket Type3  Outlet_Identifier_OUT013  \\\n",
       "0                              0                         0   \n",
       "1                              0                         0   \n",
       "\n",
       "   Outlet_Identifier_OUT017  Outlet_Identifier_OUT018  \\\n",
       "0                         0                         0   \n",
       "1                         0                         1   \n",
       "\n",
       "   Outlet_Identifier_OUT019  Outlet_Identifier_OUT027  \\\n",
       "0                         0                         0   \n",
       "1                         0                         0   \n",
       "\n",
       "   Outlet_Identifier_OUT035  Outlet_Identifier_OUT045  \\\n",
       "0                         0                         0   \n",
       "1                         0                         0   \n",
       "\n",
       "   Outlet_Identifier_OUT046  Outlet_Identifier_OUT049  \n",
       "0                         0                         1  \n",
       "1                         0                         0  \n",
       "\n",
       "[2 rows x 37 columns]"
      ]
     },
     "execution_count": 21,
     "metadata": {},
     "output_type": "execute_result"
    }
   ],
   "source": [
    "TrainData.head(2)"
   ]
  },
  {
   "cell_type": "code",
   "execution_count": null,
   "metadata": {},
   "outputs": [],
   "source": [
    "#convert data into dependent and independent variable"
   ]
  },
  {
   "cell_type": "code",
   "execution_count": 22,
   "metadata": {},
   "outputs": [],
   "source": [
    "X=TrainData.drop(['Item_Identifier', 'Item_Outlet_Sales'], axis=1)"
   ]
  },
  {
   "cell_type": "code",
   "execution_count": 23,
   "metadata": {},
   "outputs": [],
   "source": [
    "y=TrainData['Item_Outlet_Sales']"
   ]
  },
  {
   "cell_type": "code",
   "execution_count": 24,
   "metadata": {},
   "outputs": [],
   "source": [
    "from sklearn.model_selection import train_test_split, cross_val_score\n",
    "from sklearn.metrics import accuracy_score, classification_report, precision_score, recall_score \n",
    "from sklearn.metrics import confusion_matrix, precision_recall_curve, roc_curve, auc, log_loss\n",
    "from sklearn.linear_model import LogisticRegression\n",
    "import matplotlib.pyplot as plt \n"
   ]
  },
  {
   "cell_type": "code",
   "execution_count": 25,
   "metadata": {},
   "outputs": [],
   "source": [
    "seed=7\n",
    "X_train, X_test, y_train, y_test = train_test_split(X, y, test_size=0.3,random_state=seed)"
   ]
  },
  {
   "cell_type": "code",
   "execution_count": 26,
   "metadata": {},
   "outputs": [],
   "source": [
    "from sklearn.preprocessing import StandardScaler\n",
    "scaler = StandardScaler()\n",
    "X_train=scaler.fit_transform(X_train)\n",
    "X_test=scaler.fit_transform(X_test)"
   ]
  },
  {
   "cell_type": "code",
   "execution_count": null,
   "metadata": {},
   "outputs": [],
   "source": [
    "#build random forest model"
   ]
  },
  {
   "cell_type": "code",
   "execution_count": 27,
   "metadata": {},
   "outputs": [
    {
     "name": "stdout",
     "output_type": "stream",
     "text": [
      "RMSE =  1227086.6768501722\n"
     ]
    }
   ],
   "source": [
    "#Make predictions on validation dataset using best estimstor = 80\n",
    "# prepare the model\n",
    "from sklearn.preprocessing import StandardScaler\n",
    "from sklearn.ensemble import RandomForestRegressor\n",
    "from sklearn.metrics import mean_squared_error\n",
    "scaler = StandardScaler().fit(X_train)\n",
    "rescaledX = scaler.transform(X_train)\n",
    "model = RandomForestRegressor(n_estimators=90, max_features='auto', max_depth=5, bootstrap=True)\n",
    "model.fit(rescaledX, y_train)\n",
    "# transform the validation dataset\n",
    "rescaledValidationX = scaler.transform(X_test)\n",
    "predictions = model.predict(rescaledValidationX)\n",
    "print(\"RMSE = \", mean_squared_error(y_test, predictions))"
   ]
  },
  {
   "cell_type": "code",
   "execution_count": null,
   "metadata": {},
   "outputs": [],
   "source": [
    "#using randomized search cv we do hyperparamter tuning"
   ]
  },
  {
   "cell_type": "code",
   "execution_count": 28,
   "metadata": {},
   "outputs": [
    {
     "name": "stdout",
     "output_type": "stream",
     "text": [
      "Fitting 3 folds for each of 20 candidates, totalling 60 fits\n",
      "[CV] END bootstrap=True, max_depth=None, max_features=log2, n_estimators=82; total time=   1.1s\n",
      "[CV] END bootstrap=True, max_depth=None, max_features=log2, n_estimators=82; total time=   1.0s\n",
      "[CV] END bootstrap=True, max_depth=None, max_features=log2, n_estimators=82; total time=   1.1s\n",
      "[CV] END bootstrap=False, max_depth=5, max_features=log2, n_estimators=92; total time=   0.4s\n",
      "[CV] END bootstrap=False, max_depth=5, max_features=log2, n_estimators=92; total time=   0.4s\n",
      "[CV] END bootstrap=False, max_depth=5, max_features=log2, n_estimators=92; total time=   0.4s\n",
      "[CV] END bootstrap=True, max_depth=5, max_features=log2, n_estimators=95; total time=   0.4s\n",
      "[CV] END bootstrap=True, max_depth=5, max_features=log2, n_estimators=95; total time=   0.4s\n",
      "[CV] END bootstrap=True, max_depth=5, max_features=log2, n_estimators=95; total time=   0.4s\n",
      "[CV] END bootstrap=True, max_depth=10, max_features=auto, n_estimators=150; total time=   3.7s\n",
      "[CV] END bootstrap=True, max_depth=10, max_features=auto, n_estimators=150; total time=   3.7s\n",
      "[CV] END bootstrap=True, max_depth=10, max_features=auto, n_estimators=150; total time=   3.8s\n",
      "[CV] END bootstrap=False, max_depth=5, max_features=auto, n_estimators=200; total time=   4.0s\n",
      "[CV] END bootstrap=False, max_depth=5, max_features=auto, n_estimators=200; total time=   4.2s\n",
      "[CV] END bootstrap=False, max_depth=5, max_features=auto, n_estimators=200; total time=   4.8s\n",
      "[CV] END bootstrap=False, max_depth=None, max_features=auto, n_estimators=94; total time=   6.4s\n",
      "[CV] END bootstrap=False, max_depth=None, max_features=auto, n_estimators=94; total time=   6.1s\n",
      "[CV] END bootstrap=False, max_depth=None, max_features=auto, n_estimators=94; total time=   6.4s\n",
      "[CV] END bootstrap=True, max_depth=None, max_features=log2, n_estimators=80; total time=   1.1s\n",
      "[CV] END bootstrap=True, max_depth=None, max_features=log2, n_estimators=80; total time=   1.0s\n",
      "[CV] END bootstrap=True, max_depth=None, max_features=log2, n_estimators=80; total time=   1.2s\n",
      "[CV] END bootstrap=False, max_depth=None, max_features=log2, n_estimators=94; total time=   1.8s\n",
      "[CV] END bootstrap=False, max_depth=None, max_features=log2, n_estimators=94; total time=   1.7s\n",
      "[CV] END bootstrap=False, max_depth=None, max_features=log2, n_estimators=94; total time=   1.8s\n",
      "[CV] END bootstrap=True, max_depth=None, max_features=log2, n_estimators=150; total time=   2.1s\n",
      "[CV] END bootstrap=True, max_depth=None, max_features=log2, n_estimators=150; total time=   2.4s\n",
      "[CV] END bootstrap=True, max_depth=None, max_features=log2, n_estimators=150; total time=   2.1s\n",
      "[CV] END bootstrap=True, max_depth=10, max_features=auto, n_estimators=90; total time=   2.4s\n",
      "[CV] END bootstrap=True, max_depth=10, max_features=auto, n_estimators=90; total time=   2.4s\n",
      "[CV] END bootstrap=True, max_depth=10, max_features=auto, n_estimators=90; total time=   2.6s\n",
      "[CV] END bootstrap=True, max_depth=None, max_features=auto, n_estimators=80; total time=   3.6s\n",
      "[CV] END bootstrap=True, max_depth=None, max_features=auto, n_estimators=80; total time=   3.9s\n",
      "[CV] END bootstrap=True, max_depth=None, max_features=auto, n_estimators=80; total time=   3.9s\n",
      "[CV] END bootstrap=True, max_depth=10, max_features=auto, n_estimators=91; total time=   2.9s\n",
      "[CV] END bootstrap=True, max_depth=10, max_features=auto, n_estimators=91; total time=   2.6s\n",
      "[CV] END bootstrap=True, max_depth=10, max_features=auto, n_estimators=91; total time=   2.7s\n",
      "[CV] END bootstrap=True, max_depth=None, max_features=auto, n_estimators=85; total time=   4.1s\n",
      "[CV] END bootstrap=True, max_depth=None, max_features=auto, n_estimators=85; total time=   4.4s\n",
      "[CV] END bootstrap=True, max_depth=None, max_features=auto, n_estimators=85; total time=   4.4s\n",
      "[CV] END bootstrap=True, max_depth=5, max_features=auto, n_estimators=90; total time=   1.6s\n",
      "[CV] END bootstrap=True, max_depth=5, max_features=auto, n_estimators=90; total time=   1.4s\n",
      "[CV] END bootstrap=True, max_depth=5, max_features=auto, n_estimators=90; total time=   1.5s\n",
      "[CV] END bootstrap=False, max_depth=10, max_features=auto, n_estimators=200; total time=   8.7s\n",
      "[CV] END bootstrap=False, max_depth=10, max_features=auto, n_estimators=200; total time=   9.9s\n",
      "[CV] END bootstrap=False, max_depth=10, max_features=auto, n_estimators=200; total time=  10.5s\n",
      "[CV] END bootstrap=False, max_depth=10, max_features=log2, n_estimators=84; total time=   1.0s\n",
      "[CV] END bootstrap=False, max_depth=10, max_features=log2, n_estimators=84; total time=   1.0s\n",
      "[CV] END bootstrap=False, max_depth=10, max_features=log2, n_estimators=84; total time=   1.3s\n",
      "[CV] END bootstrap=True, max_depth=10, max_features=log2, n_estimators=85; total time=   0.9s\n",
      "[CV] END bootstrap=True, max_depth=10, max_features=log2, n_estimators=85; total time=   0.9s\n",
      "[CV] END bootstrap=True, max_depth=10, max_features=log2, n_estimators=85; total time=   0.9s\n",
      "[CV] END bootstrap=False, max_depth=5, max_features=log2, n_estimators=90; total time=   0.8s\n",
      "[CV] END bootstrap=False, max_depth=5, max_features=log2, n_estimators=90; total time=   1.1s\n",
      "[CV] END bootstrap=False, max_depth=5, max_features=log2, n_estimators=90; total time=   0.6s\n",
      "[CV] END bootstrap=True, max_depth=10, max_features=log2, n_estimators=94; total time=   0.8s\n",
      "[CV] END bootstrap=True, max_depth=10, max_features=log2, n_estimators=94; total time=   1.0s\n",
      "[CV] END bootstrap=True, max_depth=10, max_features=log2, n_estimators=94; total time=   1.0s\n",
      "[CV] END bootstrap=True, max_depth=None, max_features=log2, n_estimators=94; total time=   1.9s\n",
      "[CV] END bootstrap=True, max_depth=None, max_features=log2, n_estimators=94; total time=   1.6s\n",
      "[CV] END bootstrap=True, max_depth=None, max_features=log2, n_estimators=94; total time=   1.9s\n",
      "{'n_estimators': 90, 'max_features': 'auto', 'max_depth': 5, 'bootstrap': True}\n",
      "-772.9515990583504\n"
     ]
    }
   ],
   "source": [
    "from sklearn.model_selection import RandomizedSearchCV\n",
    "\n",
    "n_estimators = [80,82,84,85,90,91,92,94,95,150,200] # returns 10 numbers \n",
    "max_features = ['auto', 'log2']\n",
    "max_depth = [int(x) for x in np.linspace(5, 10, num = 2)] \n",
    "max_depth.append(None)\n",
    "bootstrap = [True, False]\n",
    "r_grid = {'n_estimators': n_estimators,\n",
    "               'max_features': max_features,\n",
    "               'max_depth': max_depth,\n",
    "               'bootstrap': bootstrap}\n",
    "rfr_random = RandomizedSearchCV(estimator=model, param_distributions=r_grid, n_iter = 20, scoring='neg_mean_absolute_error', cv = 3, verbose=2, random_state=42, n_jobs=1, return_train_score=True)\n",
    "\n",
    "rr=rfr_random.fit(X_train, y_train);\n",
    "\n",
    "print(rr.best_params_)\n",
    "print(rr.score(X_test , y_test))"
   ]
  },
  {
   "cell_type": "code",
   "execution_count": null,
   "metadata": {},
   "outputs": [],
   "source": [
    "#support vector regressor"
   ]
  },
  {
   "cell_type": "code",
   "execution_count": 29,
   "metadata": {},
   "outputs": [],
   "source": [
    "from sklearn.svm import SVR\n",
    "svr_rbf = SVR(kernel='rbf', C=1e3, gamma=0.1)\n",
    "svr_lin = SVR(kernel='linear', C=1e3)\n",
    "svr_poly = SVR(kernel='poly', C=1e3, degree=2)\n",
    "y_rbf = svr_rbf.fit(X_train, y_train)\n",
    "y_lin = svr_lin.fit(X_train, y_train)\n",
    "y_poly = svr_poly.fit(X_train, y_train)"
   ]
  },
  {
   "cell_type": "code",
   "execution_count": 30,
   "metadata": {},
   "outputs": [],
   "source": [
    "yred_rbf = y_rbf.predict(X_test)\n",
    "yred_lin = y_lin.predict(X_test)\n",
    "yred_poly = y_poly.predict(X_test)"
   ]
  },
  {
   "cell_type": "code",
   "execution_count": 31,
   "metadata": {},
   "outputs": [
    {
     "name": "stdout",
     "output_type": "stream",
     "text": [
      "1418521.9092434305 1341753.676418912 2434392.706423005\n"
     ]
    }
   ],
   "source": [
    "mse1=mean_squared_error(y_test,yred_rbf )\n",
    "mse2=mean_squared_error(y_test,yred_lin )\n",
    "mse3=mean_squared_error(y_test,yred_poly )\n",
    "print(mse1,mse2,mse3)"
   ]
  },
  {
   "cell_type": "code",
   "execution_count": 32,
   "metadata": {},
   "outputs": [],
   "source": [
    "#build xgboost model"
   ]
  },
  {
   "cell_type": "code",
   "execution_count": 33,
   "metadata": {},
   "outputs": [
    {
     "name": "stdout",
     "output_type": "stream",
     "text": [
      "MAE:  785.9084082742487\n",
      "RMSE =  1257394.1754886562\n"
     ]
    }
   ],
   "source": [
    "from xgboost import XGBRegressor\n",
    "from xgboost import XGBRFRegressor\n",
    "from sklearn.model_selection import GridSearchCV\n",
    "\n",
    "from sklearn.metrics import mean_squared_error\n",
    "from sklearn.metrics import mean_absolute_error\n",
    "xgb_model = XGBRegressor(\n",
    "        objective = 'reg:squarederror',\n",
    "        colsample_bytree = 0.5,\n",
    "        learning_rate = 0.1,\n",
    "        max_depth = 6,\n",
    "        min_child_weight = 1,\n",
    "        n_estimators = 500,\n",
    "        subsample = 0.7)\n",
    "\n",
    "xgb_model.fit(X_train, y_train, early_stopping_rounds=5, eval_set=[(X_test, y_test)], verbose=False)\n",
    "\n",
    "y_pred_xgb = xgb_model.predict(X_test)\n",
    "\n",
    "mae_xgb = mean_absolute_error(y_test, y_pred_xgb)\n",
    "\n",
    "print(\"MAE: \", mae_xgb)\n",
    "print(\"RMSE = \", mean_squared_error(y_test, y_pred_xgb))"
   ]
  },
  {
   "cell_type": "code",
   "execution_count": null,
   "metadata": {},
   "outputs": [],
   "source": [
    "#scale data using robust scaler"
   ]
  },
  {
   "cell_type": "code",
   "execution_count": 37,
   "metadata": {},
   "outputs": [],
   "source": [
    "from sklearn.preprocessing import RobustScaler\n",
    "sc=RobustScaler()\n",
    "X_train=sc.fit_transform(X_train)\n",
    "X_test=sc.fit_transform(X_test)"
   ]
  },
  {
   "cell_type": "code",
   "execution_count": 38,
   "metadata": {},
   "outputs": [],
   "source": [
    "from sklearn.ensemble import GradientBoostingRegressor\n",
    "from sklearn.linear_model import LinearRegression\n",
    "reg1 = GradientBoostingRegressor(random_state=1)\n",
    "reg2 = RandomForestRegressor(random_state=100)\n",
    "reg3 = LinearRegression()\n",
    "\n",
    "reg1 = reg1.fit(X_train, y_train)\n",
    "reg2 = reg2.fit(X_train, y_train)\n",
    "reg3 = reg3.fit(X_train, y_train)\n",
    "\n"
   ]
  },
  {
   "cell_type": "code",
   "execution_count": 39,
   "metadata": {},
   "outputs": [
    {
     "name": "stdout",
     "output_type": "stream",
     "text": [
      "Mean absolute error = 782.23\n",
      "Mean squared error = 1246195.45\n",
      "Median absolute error = 519.72\n",
      "Explain variance score = 0.58\n",
      "R2 score = 0.58\n"
     ]
    }
   ],
   "source": [
    "y_pred = reg1.predict(X_test)\n",
    "import sklearn.metrics as sm\n",
    "print(\"Mean absolute error =\", round(sm.mean_absolute_error(y_test, y_pred), 2)) \n",
    "print(\"Mean squared error =\", round(sm.mean_squared_error(y_test, y_pred), 2)) \n",
    "print(\"Median absolute error =\", round(sm.median_absolute_error(y_test, y_pred), 2)) \n",
    "print(\"Explain variance score =\", round(sm.explained_variance_score(y_test, y_pred), 2)) \n",
    "print(\"R2 score =\", round(sm.r2_score(y_test, y_pred), 2))"
   ]
  },
  {
   "cell_type": "code",
   "execution_count": 36,
   "metadata": {},
   "outputs": [
    {
     "data": {
      "text/plain": [
       "array([0.58589252, 0.60165846, 0.58243034, 0.60055089, 0.61505802])"
      ]
     },
     "execution_count": 36,
     "metadata": {},
     "output_type": "execute_result"
    }
   ],
   "source": [
    "from sklearn.model_selection import ShuffleSplit\n",
    "from sklearn.model_selection import cross_val_score\n",
    "\n",
    "cv = ShuffleSplit(n_splits=5, test_size=0.2, random_state=0)\n",
    "\n",
    "cross_val_score(GradientBoostingRegressor(), X, y, cv=cv)"
   ]
  },
  {
   "cell_type": "code",
   "execution_count": 40,
   "metadata": {},
   "outputs": [
    {
     "name": "stdout",
     "output_type": "stream",
     "text": [
      "Mean absolute error = 803.73\n",
      "Mean squared error = 1351035.53\n",
      "Median absolute error = 533.39\n",
      "Explain variance score = 0.54\n",
      "R2 score = 0.54\n"
     ]
    }
   ],
   "source": [
    "y_pred = reg2.predict(X_test)\n",
    "import sklearn.metrics as sm\n",
    "print(\"Mean absolute error =\", round(sm.mean_absolute_error(y_test, y_pred), 2)) \n",
    "print(\"Mean squared error =\", round(sm.mean_squared_error(y_test, y_pred), 2)) \n",
    "print(\"Median absolute error =\", round(sm.median_absolute_error(y_test, y_pred), 2)) \n",
    "print(\"Explain variance score =\", round(sm.explained_variance_score(y_test, y_pred), 2)) \n",
    "print(\"R2 score =\", round(sm.r2_score(y_test, y_pred), 2))"
   ]
  },
  {
   "cell_type": "code",
   "execution_count": 161,
   "metadata": {},
   "outputs": [
    {
     "data": {
      "text/plain": [
       "array([0.55626112, 0.5535199 , 0.5426587 , 0.54942977, 0.5720999 ])"
      ]
     },
     "execution_count": 161,
     "metadata": {},
     "output_type": "execute_result"
    }
   ],
   "source": [
    "from sklearn.model_selection import ShuffleSplit\n",
    "from sklearn.model_selection import cross_val_score\n",
    "\n",
    "cv = ShuffleSplit(n_splits=5, test_size=0.2, random_state=0)\n",
    "\n",
    "cross_val_score(RandomForestRegressor(), X, y, cv=cv)"
   ]
  },
  {
   "cell_type": "code",
   "execution_count": null,
   "metadata": {},
   "outputs": [],
   "source": [
    "#predict test data using random forest model because this give small value of RMSE"
   ]
  },
  {
   "cell_type": "code",
   "execution_count": 42,
   "metadata": {},
   "outputs": [],
   "source": [
    "TestData = pd.read_csv(\"test.csv\")"
   ]
  },
  {
   "cell_type": "code",
   "execution_count": 43,
   "metadata": {},
   "outputs": [
    {
     "data": {
      "text/plain": [
       "(5681, 11)"
      ]
     },
     "execution_count": 43,
     "metadata": {},
     "output_type": "execute_result"
    }
   ],
   "source": [
    "TestData.shape"
   ]
  },
  {
   "cell_type": "code",
   "execution_count": 44,
   "metadata": {},
   "outputs": [
    {
     "data": {
      "text/plain": [
       "Item_Identifier                 0\n",
       "Item_Weight                   976\n",
       "Item_Fat_Content                0\n",
       "Item_Visibility                 0\n",
       "Item_Type                       0\n",
       "Item_MRP                        0\n",
       "Outlet_Identifier               0\n",
       "Outlet_Establishment_Year       0\n",
       "Outlet_Size                  1606\n",
       "Outlet_Location_Type            0\n",
       "Outlet_Type                     0\n",
       "dtype: int64"
      ]
     },
     "execution_count": 44,
     "metadata": {},
     "output_type": "execute_result"
    }
   ],
   "source": [
    "TestData.isnull().sum()"
   ]
  },
  {
   "cell_type": "code",
   "execution_count": 45,
   "metadata": {},
   "outputs": [
    {
     "data": {
      "text/plain": [
       "array(['Low Fat', 'reg', 'Regular', 'LF', 'low fat'], dtype=object)"
      ]
     },
     "execution_count": 45,
     "metadata": {},
     "output_type": "execute_result"
    }
   ],
   "source": [
    "TestData['Item_Fat_Content'].unique()"
   ]
  },
  {
   "cell_type": "code",
   "execution_count": 46,
   "metadata": {},
   "outputs": [],
   "source": [
    "TestData['Item_Fat_Content'] = TestData['Item_Fat_Content'].replace({'Low Fat':'LF', 'low fat':'LF'})\n"
   ]
  },
  {
   "cell_type": "code",
   "execution_count": 47,
   "metadata": {},
   "outputs": [],
   "source": [
    "TestData['Item_Fat_Content'] = TestData['Item_Fat_Content'].replace({'reg':'Regular'})\n"
   ]
  },
  {
   "cell_type": "code",
   "execution_count": 48,
   "metadata": {},
   "outputs": [],
   "source": [
    "\n",
    "TestData['Outlet_Size']=TestData['Outlet_Size'].fillna(TestData['Outlet_Size'].mode()[0])"
   ]
  },
  {
   "cell_type": "code",
   "execution_count": 49,
   "metadata": {},
   "outputs": [],
   "source": [
    "from sklearn import preprocessing\n",
    "# label_encoder object knows how to understand word labels. \n",
    "label_encoder = preprocessing.LabelEncoder()\n",
    "# Encode labels in column 'Country'. \n",
    "TestData['Outlet_Size']= label_encoder.fit_transform(TestData['Outlet_Size']) "
   ]
  },
  {
   "cell_type": "code",
   "execution_count": 50,
   "metadata": {},
   "outputs": [],
   "source": [
    "TestData['Outlet_Establishment_Year']= label_encoder.fit_transform(TestData['Outlet_Establishment_Year']) "
   ]
  },
  {
   "cell_type": "code",
   "execution_count": 51,
   "metadata": {},
   "outputs": [],
   "source": [
    "FinalTestData = pd.get_dummies(TestData, \n",
    "                     columns = ['Item_Fat_Content','Item_Type','Outlet_Location_Type','Outlet_Type'],drop_first=True)"
   ]
  },
  {
   "cell_type": "code",
   "execution_count": 52,
   "metadata": {},
   "outputs": [],
   "source": [
    "FinalTestData = pd.get_dummies(FinalTestData, \n",
    "                     columns = ['Outlet_Identifier'],drop_first=True)"
   ]
  },
  {
   "cell_type": "code",
   "execution_count": 53,
   "metadata": {},
   "outputs": [],
   "source": [
    "\n",
    "FinalTestData['Item_Weight'].fillna((FinalTestData['Item_Weight'].mean()), inplace=True)"
   ]
  },
  {
   "cell_type": "code",
   "execution_count": 54,
   "metadata": {},
   "outputs": [
    {
     "data": {
      "text/plain": [
       "Item_Identifier                    0\n",
       "Item_Weight                        0\n",
       "Item_Visibility                    0\n",
       "Item_MRP                           0\n",
       "Outlet_Establishment_Year          0\n",
       "Outlet_Size                        0\n",
       "Item_Fat_Content_Regular           0\n",
       "Item_Type_Breads                   0\n",
       "Item_Type_Breakfast                0\n",
       "Item_Type_Canned                   0\n",
       "Item_Type_Dairy                    0\n",
       "Item_Type_Frozen Foods             0\n",
       "Item_Type_Fruits and Vegetables    0\n",
       "Item_Type_Hard Drinks              0\n",
       "Item_Type_Health and Hygiene       0\n",
       "Item_Type_Household                0\n",
       "Item_Type_Meat                     0\n",
       "Item_Type_Others                   0\n",
       "Item_Type_Seafood                  0\n",
       "Item_Type_Snack Foods              0\n",
       "Item_Type_Soft Drinks              0\n",
       "Item_Type_Starchy Foods            0\n",
       "Outlet_Location_Type_Tier 2        0\n",
       "Outlet_Location_Type_Tier 3        0\n",
       "Outlet_Type_Supermarket Type1      0\n",
       "Outlet_Type_Supermarket Type2      0\n",
       "Outlet_Type_Supermarket Type3      0\n",
       "Outlet_Identifier_OUT013           0\n",
       "Outlet_Identifier_OUT017           0\n",
       "Outlet_Identifier_OUT018           0\n",
       "Outlet_Identifier_OUT019           0\n",
       "Outlet_Identifier_OUT027           0\n",
       "Outlet_Identifier_OUT035           0\n",
       "Outlet_Identifier_OUT045           0\n",
       "Outlet_Identifier_OUT046           0\n",
       "Outlet_Identifier_OUT049           0\n",
       "dtype: int64"
      ]
     },
     "execution_count": 54,
     "metadata": {},
     "output_type": "execute_result"
    }
   ],
   "source": [
    "FinalTestData.isnull().sum()"
   ]
  },
  {
   "cell_type": "code",
   "execution_count": 55,
   "metadata": {},
   "outputs": [],
   "source": [
    "X_val=FinalTestData.drop(['Item_Identifier'], axis=1)\n",
    "#Predict on the test dataset\n",
    "#scaler = StandardScaler().fit(X_val)\n",
    "#X_val = scaler.transform(X_val)\n",
    "rescaled_test1=scaler.fit_transform(X_val)\n",
    "predicted_prices = model.predict(rescaled_test1)\n",
    "\n",
    "#PRepare submission file\n",
    "#TestData['Item_Outlet_Sales'] = predicted_prices\n",
    "\n",
    "FinalTestData['Item_Outlet_Sales'] = predicted_prices"
   ]
  },
  {
   "cell_type": "code",
   "execution_count": 56,
   "metadata": {
    "scrolled": false
   },
   "outputs": [
    {
     "data": {
      "text/html": [
       "<div>\n",
       "<style scoped>\n",
       "    .dataframe tbody tr th:only-of-type {\n",
       "        vertical-align: middle;\n",
       "    }\n",
       "\n",
       "    .dataframe tbody tr th {\n",
       "        vertical-align: top;\n",
       "    }\n",
       "\n",
       "    .dataframe thead th {\n",
       "        text-align: right;\n",
       "    }\n",
       "</style>\n",
       "<table border=\"1\" class=\"dataframe\">\n",
       "  <thead>\n",
       "    <tr style=\"text-align: right;\">\n",
       "      <th></th>\n",
       "      <th>Item_Identifier</th>\n",
       "      <th>Outlet_Identifier</th>\n",
       "      <th>Item_Outlet_Sales</th>\n",
       "    </tr>\n",
       "  </thead>\n",
       "  <tbody>\n",
       "    <tr>\n",
       "      <th>5676</th>\n",
       "      <td>FDB58</td>\n",
       "      <td>OUT046</td>\n",
       "      <td>2136.023330</td>\n",
       "    </tr>\n",
       "    <tr>\n",
       "      <th>5677</th>\n",
       "      <td>FDD47</td>\n",
       "      <td>OUT018</td>\n",
       "      <td>2624.850689</td>\n",
       "    </tr>\n",
       "    <tr>\n",
       "      <th>5678</th>\n",
       "      <td>NCO17</td>\n",
       "      <td>OUT045</td>\n",
       "      <td>2088.381233</td>\n",
       "    </tr>\n",
       "    <tr>\n",
       "      <th>5679</th>\n",
       "      <td>FDJ26</td>\n",
       "      <td>OUT017</td>\n",
       "      <td>3689.859066</td>\n",
       "    </tr>\n",
       "    <tr>\n",
       "      <th>5680</th>\n",
       "      <td>FDU37</td>\n",
       "      <td>OUT045</td>\n",
       "      <td>1282.267838</td>\n",
       "    </tr>\n",
       "  </tbody>\n",
       "</table>\n",
       "</div>"
      ],
      "text/plain": [
       "     Item_Identifier Outlet_Identifier  Item_Outlet_Sales\n",
       "5676           FDB58            OUT046        2136.023330\n",
       "5677           FDD47            OUT018        2624.850689\n",
       "5678           NCO17            OUT045        2088.381233\n",
       "5679           FDJ26            OUT017        3689.859066\n",
       "5680           FDU37            OUT045        1282.267838"
      ]
     },
     "execution_count": 56,
     "metadata": {},
     "output_type": "execute_result"
    }
   ],
   "source": [
    "#FinalTestData['Item_Identifier'] = TestData['Item_Identifier']\n",
    "FinalTestData['Outlet_Identifier'] = TestData['Outlet_Identifier']\n",
    "submission = FinalTestData[['Item_Identifier','Outlet_Identifier','Item_Outlet_Sales']]\n",
    "\n",
    "submission.to_csv(\"submission_rfr.csv\", index=False)\n",
    "submission.tail()"
   ]
  },
  {
   "cell_type": "code",
   "execution_count": null,
   "metadata": {},
   "outputs": [],
   "source": []
  }
 ],
 "metadata": {
  "kernelspec": {
   "display_name": "Python 3",
   "language": "python",
   "name": "python3"
  },
  "language_info": {
   "codemirror_mode": {
    "name": "ipython",
    "version": 3
   },
   "file_extension": ".py",
   "mimetype": "text/x-python",
   "name": "python",
   "nbconvert_exporter": "python",
   "pygments_lexer": "ipython3",
   "version": "3.6.12"
  }
 },
 "nbformat": 4,
 "nbformat_minor": 4
}
